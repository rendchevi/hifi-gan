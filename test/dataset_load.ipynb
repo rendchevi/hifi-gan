{
 "cells": [
  {
   "cell_type": "code",
   "execution_count": 1,
   "metadata": {},
   "outputs": [
    {
     "name": "stdout",
     "output_type": "stream",
     "text": [
      "/home/branch/rnd/research/hifi-gan\n"
     ]
    }
   ],
   "source": [
    "%load_ext autoreload\n",
    "%autoreload 2\n",
    "%cd .."
   ]
  },
  {
   "cell_type": "code",
   "execution_count": 14,
   "metadata": {},
   "outputs": [],
   "source": [
    "import os\n",
    "import json\n",
    "from glob import glob\n",
    "\n",
    "from env import AttrDict\n",
    "\n",
    "import matplotlib.pyplot as plt\n",
    "\n",
    "\n",
    "from torch.utils.data import DataLoader\n",
    "\n",
    "from meldataset import MelDataset, get_dataset_filelist"
   ]
  },
  {
   "cell_type": "code",
   "execution_count": 6,
   "metadata": {},
   "outputs": [],
   "source": [
    "# Load config\n",
    "config_file = \"./config_v1.json\"\n",
    "with open(config_file) as f:\n",
    "    data = f.read()\n",
    "\n",
    "global h\n",
    "json_config = json.loads(data)\n",
    "h = AttrDict(json_config)"
   ]
  },
  {
   "cell_type": "code",
   "execution_count": null,
   "metadata": {},
   "outputs": [],
   "source": [
    "training_filelist, validation_filelist = get_dataset_filelist(a)"
   ]
  },
  {
   "cell_type": "code",
   "execution_count": 9,
   "metadata": {},
   "outputs": [],
   "source": [
    "training_filelist = glob(\"/home/branch/rnd/datasets/esd-0011/angry/*.wav\")"
   ]
  },
  {
   "cell_type": "code",
   "execution_count": 12,
   "metadata": {},
   "outputs": [],
   "source": [
    "trainset = MelDataset(training_filelist, h.segment_size, h.n_fft, h.num_mels,\n",
    "    h.hop_size, h.win_size, h.sampling_rate, h.fmin, h.fmax, n_cache_reuse=0,\n",
    "    shuffle=False if h.num_gpus > 1 else True, fmax_loss=h.fmax_for_loss, device=\"cpu\",\n",
    "    fine_tuning=False, base_mels_path=None,\n",
    ")\n",
    "\n",
    "train_loader = DataLoader(trainset, num_workers=h.num_workers, shuffle=False,\n",
    "                            sampler=None,\n",
    "                            batch_size=4,\n",
    "                            pin_memory=True,\n",
    "                            drop_last=True)"
   ]
  },
  {
   "cell_type": "code",
   "execution_count": 13,
   "metadata": {},
   "outputs": [
    {
     "name": "stderr",
     "output_type": "stream",
     "text": [
      "/home/branch/rnd/research/hifi-gan/meldataset.py:57: FutureWarning: Pass sr=22050, n_fft=1024, n_mels=80, fmin=0, fmax=8000 as keyword args. From version 0.10 passing these as positional arguments will result in an error\n",
      "  mel = librosa_mel_fn(sampling_rate, n_fft, num_mels, fmin, fmax)\n",
      "/home/branch/miniconda3/envs/vus/lib/python3.8/site-packages/torch/functional.py:632: UserWarning: stft will soon require the return_complex parameter be given for real inputs, and will further require that return_complex=True in a future PyTorch release. (Triggered internally at ../aten/src/ATen/native/SpectralOps.cpp:801.)\n",
      "  return _VF.stft(input, n_fft, hop_length, win_length, window,  # type: ignore[attr-defined]\n",
      "/home/branch/rnd/research/hifi-gan/meldataset.py:57: FutureWarning: Pass sr=22050, n_fft=1024, n_mels=80, fmin=0, fmax=None as keyword args. From version 0.10 passing these as positional arguments will result in an error\n",
      "  mel = librosa_mel_fn(sampling_rate, n_fft, num_mels, fmin, fmax)\n",
      "/home/branch/rnd/research/hifi-gan/meldataset.py:57: FutureWarning: Pass sr=22050, n_fft=1024, n_mels=80, fmin=0, fmax=8000 as keyword args. From version 0.10 passing these as positional arguments will result in an error\n",
      "  mel = librosa_mel_fn(sampling_rate, n_fft, num_mels, fmin, fmax)\n",
      "/home/branch/rnd/research/hifi-gan/meldataset.py:57: FutureWarning: Pass sr=22050, n_fft=1024, n_mels=80, fmin=0, fmax=8000 as keyword args. From version 0.10 passing these as positional arguments will result in an error\n",
      "  mel = librosa_mel_fn(sampling_rate, n_fft, num_mels, fmin, fmax)\n",
      "/home/branch/rnd/research/hifi-gan/meldataset.py:57: FutureWarning: Pass sr=22050, n_fft=1024, n_mels=80, fmin=0, fmax=8000 as keyword args. From version 0.10 passing these as positional arguments will result in an error\n",
      "  mel = librosa_mel_fn(sampling_rate, n_fft, num_mels, fmin, fmax)\n",
      "/home/branch/miniconda3/envs/vus/lib/python3.8/site-packages/torch/functional.py:632: UserWarning: stft will soon require the return_complex parameter be given for real inputs, and will further require that return_complex=True in a future PyTorch release. (Triggered internally at ../aten/src/ATen/native/SpectralOps.cpp:801.)\n",
      "  return _VF.stft(input, n_fft, hop_length, win_length, window,  # type: ignore[attr-defined]\n",
      "/home/branch/miniconda3/envs/vus/lib/python3.8/site-packages/torch/functional.py:632: UserWarning: stft will soon require the return_complex parameter be given for real inputs, and will further require that return_complex=True in a future PyTorch release. (Triggered internally at ../aten/src/ATen/native/SpectralOps.cpp:801.)\n",
      "  return _VF.stft(input, n_fft, hop_length, win_length, window,  # type: ignore[attr-defined]\n",
      "/home/branch/miniconda3/envs/vus/lib/python3.8/site-packages/torch/functional.py:632: UserWarning: stft will soon require the return_complex parameter be given for real inputs, and will further require that return_complex=True in a future PyTorch release. (Triggered internally at ../aten/src/ATen/native/SpectralOps.cpp:801.)\n",
      "  return _VF.stft(input, n_fft, hop_length, win_length, window,  # type: ignore[attr-defined]\n",
      "/home/branch/rnd/research/hifi-gan/meldataset.py:57: FutureWarning: Pass sr=22050, n_fft=1024, n_mels=80, fmin=0, fmax=None as keyword args. From version 0.10 passing these as positional arguments will result in an error\n",
      "  mel = librosa_mel_fn(sampling_rate, n_fft, num_mels, fmin, fmax)\n",
      "/home/branch/rnd/research/hifi-gan/meldataset.py:57: FutureWarning: Pass sr=22050, n_fft=1024, n_mels=80, fmin=0, fmax=None as keyword args. From version 0.10 passing these as positional arguments will result in an error\n",
      "  mel = librosa_mel_fn(sampling_rate, n_fft, num_mels, fmin, fmax)\n",
      "/home/branch/rnd/research/hifi-gan/meldataset.py:57: FutureWarning: Pass sr=22050, n_fft=1024, n_mels=80, fmin=0, fmax=None as keyword args. From version 0.10 passing these as positional arguments will result in an error\n",
      "  mel = librosa_mel_fn(sampling_rate, n_fft, num_mels, fmin, fmax)\n"
     ]
    }
   ],
   "source": [
    "x, y, _, y_mel = next(iter(train_loader))"
   ]
  },
  {
   "cell_type": "code",
   "execution_count": 15,
   "metadata": {},
   "outputs": [
    {
     "data": {
      "image/png": "[encoded data removed]",
      "text/plain": [
       "<Figure size 640x480 with 1 Axes>"
      ]
     },
     "metadata": {},
     "output_type": "display_data"
    }
   ],
   "source": [
    "plt.imshow(y_mel[0])\n",
    "plt.show()"
   ]
  }
 ],
 "metadata": {
  "kernelspec": {
   "display_name": "vus",
   "language": "python",
   "name": "python3"
  },
  "language_info": {
   "codemirror_mode": {
    "name": "ipython",
    "version": 3
   },
   "file_extension": ".py",
   "mimetype": "text/x-python",
   "name": "python",
   "nbconvert_exporter": "python",
   "pygments_lexer": "ipython3",
   "version": "3.8.15"
  },
  "orig_nbformat": 4,
  "vscode": {
   "interpreter": {
    "hash": "66f98d17e3c2d6111872a49678c74620fbc2f4ca3df968e5cc085e4ab2421a4f"
   }
  }
 },
 "nbformat": 4,
 "nbformat_minor": 2
}
